{
 "cells": [
  {
   "cell_type": "markdown",
   "metadata": {},
   "source": [
    "# Dictionary"
   ]
  },
  {
   "cell_type": "markdown",
   "metadata": {},
   "source": [
    "## Create Dictionary"
   ]
  },
  {
   "cell_type": "code",
   "execution_count": 4,
   "metadata": {},
   "outputs": [
    {
     "name": "stdout",
     "output_type": "stream",
     "text": [
      "{}\n",
      "{}\n"
     ]
    }
   ],
   "source": [
    "my_dict = dict()\n",
    "print(my_dict)\n",
    "my_dict2 = {}\n",
    "print(my_dict2)\n"
   ]
  },
  {
   "cell_type": "code",
   "execution_count": 5,
   "metadata": {},
   "outputs": [
    {
     "name": "stdout",
     "output_type": "stream",
     "text": [
      "{'one': 'uno', 'two': 'dos', 'three': 'tres'}\n"
     ]
    }
   ],
   "source": [
    "eng_sp = dict(one='uno', two='dos', three='tres')\n",
    "print(eng_sp)\n"
   ]
  },
  {
   "cell_type": "code",
   "execution_count": 6,
   "metadata": {},
   "outputs": [
    {
     "name": "stdout",
     "output_type": "stream",
     "text": [
      "{'one': 'uno', 'two': 'dos', 'three': 'tres'}\n"
     ]
    }
   ],
   "source": [
    "eng_sp2 = {\n",
    "    'one': 'uno',\n",
    "    'two': 'dos',\n",
    "    'three': 'tres',\n",
    "}\n",
    "print(eng_sp2)\n"
   ]
  },
  {
   "cell_type": "code",
   "execution_count": 7,
   "metadata": {},
   "outputs": [
    {
     "name": "stdout",
     "output_type": "stream",
     "text": [
      "{'one': 'uno', 'two': 'dos', 'three': 'tres'}\n"
     ]
    }
   ],
   "source": [
    "eng_sp_list = [('one', 'uno'), ('two', 'dos'), ('three', 'tres')]\n",
    "eng_sp3 = dict(eng_sp_list)\n",
    "print(eng_sp3)\n"
   ]
  },
  {
   "cell_type": "markdown",
   "metadata": {},
   "source": [
    "## Insert/Update an element in a Dictionary "
   ]
  },
  {
   "cell_type": "code",
   "execution_count": 2,
   "metadata": {},
   "outputs": [],
   "source": [
    "my_dict = {\n",
    "    'name': 'Edy',\n",
    "    'age': 26,\n",
    "}\n"
   ]
  },
  {
   "cell_type": "code",
   "execution_count": 3,
   "metadata": {},
   "outputs": [
    {
     "name": "stdout",
     "output_type": "stream",
     "text": [
      "{'name': 'Edy', 'age': 27}\n"
     ]
    }
   ],
   "source": [
    "my_dict['age'] = 27\n",
    "print(my_dict)\n"
   ]
  },
  {
   "cell_type": "code",
   "execution_count": 4,
   "metadata": {},
   "outputs": [
    {
     "name": "stdout",
     "output_type": "stream",
     "text": [
      "{'name': 'Edy', 'age': 27, 'address': 'London'}\n"
     ]
    }
   ],
   "source": [
    "my_dict['address'] = 'London'\n",
    "print(my_dict)\n"
   ]
  },
  {
   "cell_type": "markdown",
   "metadata": {},
   "source": [
    "## Traverse through a Dictionary"
   ]
  },
  {
   "cell_type": "code",
   "execution_count": 5,
   "metadata": {},
   "outputs": [],
   "source": [
    "def traverseDict(dict):\n",
    "    for key in dict:\n",
    "        print(key, dict[key])\n"
   ]
  },
  {
   "cell_type": "code",
   "execution_count": 6,
   "metadata": {},
   "outputs": [
    {
     "name": "stdout",
     "output_type": "stream",
     "text": [
      "name Edy\n",
      "age 26\n",
      "address London\n"
     ]
    }
   ],
   "source": [
    "my_dict = {\n",
    "    'name': 'Edy',\n",
    "    'age': 26,\n",
    "    'address': 'London'\n",
    "}\n",
    "traverseDict(my_dict)\n"
   ]
  },
  {
   "cell_type": "markdown",
   "metadata": {},
   "source": [
    "## Search for an element in a Dictionary"
   ]
  },
  {
   "cell_type": "code",
   "execution_count": 7,
   "metadata": {},
   "outputs": [],
   "source": [
    "def searchDict(dict, value):\n",
    "    for key in dict:\n",
    "        if dict[key] == value:\n",
    "            return key, value\n",
    "\n",
    "    return 'The value does not exist'\n"
   ]
  },
  {
   "cell_type": "code",
   "execution_count": null,
   "metadata": {},
   "outputs": [
    {
     "name": "stdout",
     "output_type": "stream",
     "text": [
      "The value does not exist\n"
     ]
    }
   ],
   "source": [
    "my_dict = {\n",
    "    'name': 'Edy',\n",
    "    'age': 26,\n",
    "    'address': 'London'\n",
    "}\n",
    "print(searchDict(my_dict, 27))\n"
   ]
  },
  {
   "cell_type": "markdown",
   "metadata": {},
   "source": [
    "## Delete/Remove an element from a Dictionary"
   ]
  },
  {
   "cell_type": "code",
   "execution_count": 13,
   "metadata": {},
   "outputs": [],
   "source": [
    "my_dict = {\n",
    "    'name': 'Edy',\n",
    "    'age': 26,\n",
    "    'address': 'London',\n",
    "    'education': 'master'\n",
    "}\n"
   ]
  },
  {
   "cell_type": "code",
   "execution_count": 14,
   "metadata": {},
   "outputs": [
    {
     "name": "stdout",
     "output_type": "stream",
     "text": [
      "{'name': 'Edy', 'address': 'London', 'education': 'master'}\n"
     ]
    }
   ],
   "source": [
    "del my_dict['age']\n",
    "print(my_dict)\n"
   ]
  },
  {
   "cell_type": "code",
   "execution_count": 16,
   "metadata": {},
   "outputs": [
    {
     "name": "stdout",
     "output_type": "stream",
     "text": [
      "None\n",
      "{'address': 'London', 'education': 'master'}\n"
     ]
    }
   ],
   "source": [
    "# remove_element = my_dict.pop('name')\n",
    "remove_element = my_dict.pop('nam', None)\n",
    "print(remove_element)\n",
    "print(my_dict)\n"
   ]
  },
  {
   "cell_type": "code",
   "execution_count": 17,
   "metadata": {},
   "outputs": [
    {
     "name": "stdout",
     "output_type": "stream",
     "text": [
      "('education', 'master')\n",
      "{'address': 'London'}\n"
     ]
    }
   ],
   "source": [
    "remove_element = my_dict.popitem()\n",
    "print(remove_element)\n",
    "print(my_dict)"
   ]
  },
  {
   "cell_type": "code",
   "execution_count": 18,
   "metadata": {},
   "outputs": [
    {
     "name": "stdout",
     "output_type": "stream",
     "text": [
      "{}\n"
     ]
    }
   ],
   "source": [
    "my_dict.clear()\n",
    "print(my_dict)\n"
   ]
  },
  {
   "cell_type": "markdown",
   "metadata": {},
   "source": [
    "## Dictionary Methods"
   ]
  },
  {
   "cell_type": "code",
   "execution_count": 31,
   "metadata": {},
   "outputs": [],
   "source": [
    "my_dict = {\n",
    "    'name': 'Edy',\n",
    "    'age': 26,\n",
    "    'address': 'London',\n",
    "    'education': 'master'\n",
    "}\n"
   ]
  },
  {
   "cell_type": "markdown",
   "metadata": {},
   "source": [
    "### clear()\n",
    "\n",
    "Syntax:\n",
    "```\n",
    "dictionary.clear()\n",
    "```"
   ]
  },
  {
   "cell_type": "code",
   "execution_count": 30,
   "metadata": {},
   "outputs": [
    {
     "name": "stdout",
     "output_type": "stream",
     "text": [
      "{}\n"
     ]
    }
   ],
   "source": [
    "my_dict.clear()\n",
    "print(my_dict)\n"
   ]
  },
  {
   "cell_type": "markdown",
   "metadata": {},
   "source": [
    "### copy()\n",
    "\n",
    "Syntax:\n",
    "```\n",
    "dictionary.copy()\n",
    "```"
   ]
  },
  {
   "cell_type": "code",
   "execution_count": 23,
   "metadata": {},
   "outputs": [
    {
     "name": "stdout",
     "output_type": "stream",
     "text": [
      "{'name': 'Edy', 'age': 26, 'address': 'London', 'education': 'master'}\n",
      "{'name': 'Edy', 'age': 26, 'address': 'London', 'education': 'master'}\n"
     ]
    }
   ],
   "source": [
    "dict = my_dict.copy()\n",
    "print(my_dict)\n",
    "print(dict)\n"
   ]
  },
  {
   "cell_type": "markdown",
   "metadata": {},
   "source": [
    "### fromkeys()\n",
    "\n",
    "Syntax:\n",
    "```\n",
    "dictionary.fromkeys(sequence[], value)\n",
    "```"
   ]
  },
  {
   "cell_type": "code",
   "execution_count": 24,
   "metadata": {},
   "outputs": [
    {
     "name": "stdout",
     "output_type": "stream",
     "text": [
      "{1: 0, 2: 0, 3: 0}\n"
     ]
    }
   ],
   "source": [
    "new_dict = {}.fromkeys([1, 2, 3], 0)\n",
    "print(new_dict)\n"
   ]
  },
  {
   "cell_type": "code",
   "execution_count": 25,
   "metadata": {},
   "outputs": [
    {
     "name": "stdout",
     "output_type": "stream",
     "text": [
      "{1: None, 2: None, 3: None}\n"
     ]
    }
   ],
   "source": [
    "new_dict = {}.fromkeys([1, 2, 3])\n",
    "print(new_dict)\n"
   ]
  },
  {
   "cell_type": "markdown",
   "metadata": {},
   "source": [
    "### get()\n",
    "\n",
    "Syntax:\n",
    "```\n",
    "dictionary.get(key, value)\n",
    "```"
   ]
  },
  {
   "cell_type": "code",
   "execution_count": 26,
   "metadata": {},
   "outputs": [
    {
     "name": "stdout",
     "output_type": "stream",
     "text": [
      "26\n"
     ]
    }
   ],
   "source": [
    "print(my_dict.get('age', 27))\n"
   ]
  },
  {
   "cell_type": "code",
   "execution_count": 27,
   "metadata": {},
   "outputs": [
    {
     "name": "stdout",
     "output_type": "stream",
     "text": [
      "27\n"
     ]
    }
   ],
   "source": [
    "print(my_dict.get('city', 27))\n"
   ]
  },
  {
   "cell_type": "code",
   "execution_count": 28,
   "metadata": {},
   "outputs": [
    {
     "name": "stdout",
     "output_type": "stream",
     "text": [
      "None\n"
     ]
    }
   ],
   "source": [
    "print(my_dict.get('city'))\n"
   ]
  },
  {
   "cell_type": "markdown",
   "metadata": {},
   "source": [
    "### items()\n",
    "\n",
    "Syntax:\n",
    "```\n",
    "dictionary.items()\n",
    "```"
   ]
  },
  {
   "cell_type": "code",
   "execution_count": 33,
   "metadata": {},
   "outputs": [
    {
     "name": "stdout",
     "output_type": "stream",
     "text": [
      "dict_items([('name', 'Edy'), ('age', 26), ('address', 'London'), ('education', 'master')])\n"
     ]
    }
   ],
   "source": [
    "print(my_dict.items())\n"
   ]
  },
  {
   "cell_type": "markdown",
   "metadata": {},
   "source": [
    "### keys()\n",
    "\n",
    "Syntax:\n",
    "```\n",
    "dictionary.keys()\n",
    "```"
   ]
  },
  {
   "cell_type": "code",
   "execution_count": 34,
   "metadata": {},
   "outputs": [
    {
     "name": "stdout",
     "output_type": "stream",
     "text": [
      "dict_keys(['name', 'age', 'address', 'education'])\n"
     ]
    }
   ],
   "source": [
    "print(my_dict.keys())\n"
   ]
  },
  {
   "cell_type": "markdown",
   "metadata": {},
   "source": [
    "### popitems()\n",
    "\n",
    "Syntax:\n",
    "```\n",
    "dictionary.popitems()\n",
    "```"
   ]
  },
  {
   "cell_type": "code",
   "execution_count": 35,
   "metadata": {},
   "outputs": [
    {
     "name": "stdout",
     "output_type": "stream",
     "text": [
      "('education', 'master')\n",
      "{'name': 'Edy', 'age': 26, 'address': 'London'}\n"
     ]
    }
   ],
   "source": [
    "print(my_dict.popitem())\n",
    "print(my_dict)\n"
   ]
  },
  {
   "cell_type": "markdown",
   "metadata": {},
   "source": [
    "### setdefault()\n",
    "\n",
    "Syntax:\n",
    "```\n",
    "dictionary.setdefault(key, default_value)\n",
    "```\n"
   ]
  },
  {
   "cell_type": "code",
   "execution_count": 36,
   "metadata": {},
   "outputs": [
    {
     "name": "stdout",
     "output_type": "stream",
     "text": [
      "Edy\n"
     ]
    }
   ],
   "source": [
    "print(my_dict.setdefault('name', 'added'))\n"
   ]
  },
  {
   "cell_type": "code",
   "execution_count": 39,
   "metadata": {},
   "outputs": [
    {
     "name": "stdout",
     "output_type": "stream",
     "text": [
      "added\n",
      "{'name': 'Edy', 'age': 26, 'address': 'London', 'name1': 'added'}\n"
     ]
    }
   ],
   "source": [
    "print(my_dict.setdefault('name1', 'added'))\n",
    "print(my_dict)\n"
   ]
  },
  {
   "cell_type": "markdown",
   "metadata": {},
   "source": [
    "### pop()\n",
    "\n",
    "Syntax:\n",
    "```\n",
    "dictionary.pop(key, default_value)\n",
    "```"
   ]
  },
  {
   "cell_type": "code",
   "execution_count": 40,
   "metadata": {},
   "outputs": [
    {
     "name": "stdout",
     "output_type": "stream",
     "text": [
      "not\n"
     ]
    }
   ],
   "source": [
    "print(my_dict.pop('name2', 'not'))\n"
   ]
  },
  {
   "cell_type": "markdown",
   "metadata": {},
   "source": [
    "### values()\n",
    "\n",
    "Syntax:\n",
    "```\n",
    "dictionary.values()\n",
    "```"
   ]
  },
  {
   "cell_type": "code",
   "execution_count": 41,
   "metadata": {},
   "outputs": [
    {
     "name": "stdout",
     "output_type": "stream",
     "text": [
      "dict_values(['Edy', 26, 'London', 'added'])\n"
     ]
    }
   ],
   "source": [
    "print(my_dict.values())"
   ]
  },
  {
   "cell_type": "markdown",
   "metadata": {},
   "source": [
    "### update()\n",
    "\n",
    "Syntax:\n",
    "```\n",
    "dictionary.update(other_dictionary)\n",
    "```"
   ]
  },
  {
   "cell_type": "code",
   "execution_count": 42,
   "metadata": {},
   "outputs": [],
   "source": [
    "new_dict = {\n",
    "    'a': 1,\n",
    "    'b': 2,\n",
    "    'c': 3\n",
    "}\n"
   ]
  },
  {
   "cell_type": "code",
   "execution_count": 43,
   "metadata": {},
   "outputs": [
    {
     "name": "stdout",
     "output_type": "stream",
     "text": [
      "{'name': 'Edy', 'age': 26, 'address': 'London', 'name1': 'added', 'a': 1, 'b': 2, 'c': 3}\n"
     ]
    }
   ],
   "source": [
    "my_dict.update(new_dict)\n",
    "print(my_dict)\n"
   ]
  },
  {
   "cell_type": "markdown",
   "metadata": {},
   "source": [
    "## Dictionary vs List"
   ]
  },
  {
   "attachments": {
    "image.png": {
     "image/png": "[encoded data removed]"
    }
   },
   "cell_type": "markdown",
   "metadata": {},
   "source": [
    "![image.png](attachment:image.png)"
   ]
  },
  {
   "cell_type": "markdown",
   "metadata": {},
   "source": [
    "## Time and Space Complexity of a Dictionary"
   ]
  },
  {
   "attachments": {
    "image.png": {
     "image/png": "[encoded data removed]"
    }
   },
   "cell_type": "markdown",
   "metadata": {},
   "source": [
    "![image.png](attachment:image.png)"
   ]
  },
  {
   "cell_type": "markdown",
   "metadata": {},
   "source": [
    "## Dictionary Comprehension"
   ]
  },
  {
   "cell_type": "code",
   "execution_count": 46,
   "metadata": {},
   "outputs": [],
   "source": [
    "import random\n"
   ]
  },
  {
   "cell_type": "code",
   "execution_count": 45,
   "metadata": {},
   "outputs": [],
   "source": [
    "city_names = ['Paris', 'London', 'Rome', 'Berlin', 'Madrid']\n"
   ]
  },
  {
   "cell_type": "code",
   "execution_count": 51,
   "metadata": {},
   "outputs": [
    {
     "name": "stdout",
     "output_type": "stream",
     "text": [
      "{'Paris': 24, 'London': 27, 'Rome': 27, 'Berlin': 27, 'Madrid': 26}\n"
     ]
    }
   ],
   "source": [
    "city_temps = {city: random.randint(20, 30) for city in city_names}\n",
    "print(city_temps)\n"
   ]
  },
  {
   "cell_type": "code",
   "execution_count": 54,
   "metadata": {},
   "outputs": [
    {
     "name": "stdout",
     "output_type": "stream",
     "text": [
      "{'London': 27, 'Rome': 27, 'Berlin': 27, 'Madrid': 26}\n"
     ]
    }
   ],
   "source": [
    "above_25 = {city: temp for (city, temp) in city_temps.items() if temp > 25}\n",
    "print(above_25)\n"
   ]
  },
  {
   "cell_type": "code",
   "execution_count": null,
   "metadata": {},
   "outputs": [],
   "source": []
  }
 ],
 "metadata": {
  "kernelspec": {
   "display_name": "Python 3",
   "language": "python",
   "name": "python3"
  },
  "language_info": {
   "codemirror_mode": {
    "name": "ipython",
    "version": 3
   },
   "file_extension": ".py",
   "mimetype": "text/x-python",
   "name": "python",
   "nbconvert_exporter": "python",
   "pygments_lexer": "ipython3",
   "version": "3.11.5"
  }
 },
 "nbformat": 4,
 "nbformat_minor": 2
}
