{
 "cells": [
  {
   "cell_type": "markdown",
   "metadata": {},
   "source": [
    "# OOP Concepts - Classes, Ojbects, Attributes & Methods"
   ]
  },
  {
   "cell_type": "markdown",
   "metadata": {},
   "source": [
    "## Class"
   ]
  },
  {
   "cell_type": "code",
   "execution_count": 3,
   "metadata": {},
   "outputs": [
    {
     "name": "stdout",
     "output_type": "stream",
     "text": [
      "<__main__.StarCookie object at 0x0000026522E7A0F0>\n"
     ]
    }
   ],
   "source": [
    "class StarCookie:\n",
    "    pass\n",
    "\n",
    "\n",
    "star_cookie1 = StarCookie()\n",
    "print(star_cookie1)"
   ]
  },
  {
   "cell_type": "markdown",
   "metadata": {},
   "source": [
    "## Class Attributes"
   ]
  },
  {
   "cell_type": "code",
   "execution_count": 5,
   "metadata": {},
   "outputs": [
    {
     "name": "stdout",
     "output_type": "stream",
     "text": [
      "15\n",
      "Red\n",
      "16\n",
      "Blue\n"
     ]
    }
   ],
   "source": [
    "class StarCookie:\n",
    "    pass\n",
    "\n",
    "\n",
    "star_cookie1 = StarCookie()\n",
    "star_cookie1.weight = 15\n",
    "star_cookie1.color = 'Red'\n",
    "print(star_cookie1.weight)\n",
    "print(star_cookie1.color)\n",
    "\n",
    "star_cookie2 = StarCookie()\n",
    "star_cookie2.weight = 16\n",
    "star_cookie2.color = 'Blue'\n",
    "print(star_cookie2.weight)\n",
    "print(star_cookie2.color)"
   ]
  },
  {
   "cell_type": "code",
   "execution_count": 2,
   "metadata": {},
   "outputs": [
    {
     "name": "stdout",
     "output_type": "stream",
     "text": [
      "The cookie is ready.\n"
     ]
    }
   ],
   "source": [
    "class StarCookie:\n",
    "    def __init__(self):\n",
    "        print('The cookie is ready.')\n",
    "\n",
    "\n",
    "star_cookie1 = StarCookie()"
   ]
  },
  {
   "cell_type": "code",
   "execution_count": 3,
   "metadata": {},
   "outputs": [
    {
     "name": "stdout",
     "output_type": "stream",
     "text": [
      "Red\n",
      "16\n"
     ]
    }
   ],
   "source": [
    "class StarCookie:\n",
    "    def __init__(self, color, weight):\n",
    "        self.color = color\n",
    "        self.weight = weight\n",
    "\n",
    "\n",
    "star_cookie1 = StarCookie('Red', 16)\n",
    "print(star_cookie1.color)\n",
    "print(star_cookie1.weight)"
   ]
  },
  {
   "cell_type": "code",
   "execution_count": 6,
   "metadata": {},
   "outputs": [
    {
     "name": "stdout",
     "output_type": "stream",
     "text": [
      "Elshad\n",
      "0\n",
      "Renad\n",
      "5\n"
     ]
    }
   ],
   "source": [
    "class Youtube:\n",
    "    def __init__(self, username, subscribers=0):\n",
    "        self.username = username\n",
    "        self.subscribers = subscribers\n",
    "\n",
    "\n",
    "user1 = Youtube('Elshad')\n",
    "print(user1.username)\n",
    "print(user1.subscribers)\n",
    "\n",
    "user2 = Youtube('Renad')\n",
    "user2.subscribers = 5\n",
    "print(user2.username)\n",
    "print(user2.subscribers)"
   ]
  },
  {
   "cell_type": "code",
   "execution_count": 7,
   "metadata": {},
   "outputs": [],
   "source": [
    "class StarCookie:\n",
    "    milk = 0.1\n",
    "\n",
    "    def __init__(self, color, weight):\n",
    "        self.color = color\n",
    "        self.weight = weight\n",
    "\n",
    "\n",
    "star_cookie1 = StarCookie('Red', 16)\n",
    "star_cookie2 = StarCookie('Blue', 15)"
   ]
  },
  {
   "cell_type": "code",
   "execution_count": 8,
   "metadata": {},
   "outputs": [
    {
     "name": "stdout",
     "output_type": "stream",
     "text": [
      "{'color': 'Red', 'weight': 16}\n",
      "{'color': 'Blue', 'weight': 15}\n",
      "{'__module__': '__main__', 'milk': 0.1, '__init__': <function StarCookie.__init__ at 0x0000016A3B878680>, '__dict__': <attribute '__dict__' of 'StarCookie' objects>, '__weakref__': <attribute '__weakref__' of 'StarCookie' objects>, '__doc__': None}\n"
     ]
    }
   ],
   "source": [
    "print(star_cookie1.__dict__)\n",
    "print(star_cookie2.__dict__)\n",
    "print(StarCookie.__dict__)"
   ]
  },
  {
   "cell_type": "code",
   "execution_count": 9,
   "metadata": {},
   "outputs": [],
   "source": [
    "StarCookie.milk = 0.2"
   ]
  },
  {
   "cell_type": "code",
   "execution_count": 11,
   "metadata": {},
   "outputs": [
    {
     "name": "stdout",
     "output_type": "stream",
     "text": [
      "0.2\n",
      "0.2\n",
      "0.2\n"
     ]
    }
   ],
   "source": [
    "print(star_cookie1.milk)\n",
    "print(star_cookie2.milk)\n",
    "print(StarCookie.milk)"
   ]
  },
  {
   "cell_type": "markdown",
   "metadata": {},
   "source": [
    "## Class Methods"
   ]
  },
  {
   "cell_type": "code",
   "execution_count": 14,
   "metadata": {},
   "outputs": [
    {
     "name": "stdout",
     "output_type": "stream",
     "text": [
      "User 1 subscribers: 1\n",
      "User 1 subscriptions: 1\n",
      "User 2 subscribers: 1\n",
      "User 2 subscriptions: 1\n"
     ]
    }
   ],
   "source": [
    "class Youtube:\n",
    "    def __init__(self, username, subscribers=0, subscriptions=0):\n",
    "        self.username = username\n",
    "        self.subscribers = subscribers\n",
    "        self.subscriptions = subscriptions\n",
    "\n",
    "    def subscribe(self, user):\n",
    "        user.subscribers += 1\n",
    "        self.subscriptions += 1\n",
    "\n",
    "\n",
    "user1 = Youtube('Elshad')\n",
    "user2 = Youtube('Renad')\n",
    "user1.subscribe(user2)\n",
    "# user2.subscribe(user1)\n",
    "print(f'User 1 subscribers: {user1.subscribers}')\n",
    "print(f'User 1 subscriptions: {user1.subscriptions}')\n",
    "print(f'User 2 subscribers: {user2.subscribers}')\n",
    "print(f'User 2 subscriptions: {user2.subscriptions}')"
   ]
  },
  {
   "cell_type": "code",
   "execution_count": null,
   "metadata": {},
   "outputs": [],
   "source": []
  }
 ],
 "metadata": {
  "kernelspec": {
   "display_name": "Python 3 (ipykernel)",
   "language": "python",
   "name": "python3"
  },
  "language_info": {
   "codemirror_mode": {
    "name": "ipython",
    "version": 3
   },
   "file_extension": ".py",
   "mimetype": "text/x-python",
   "name": "python",
   "nbconvert_exporter": "python",
   "pygments_lexer": "ipython3",
   "version": "3.12.1"
  }
 },
 "nbformat": 4,
 "nbformat_minor": 4
}
