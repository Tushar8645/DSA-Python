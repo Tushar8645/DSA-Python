{
 "cells": [
  {
   "cell_type": "markdown",
   "metadata": {},
   "source": [
    "# Linked List"
   ]
  },
  {
   "cell_type": "markdown",
   "metadata": {},
   "source": [
    "## Node Class Constructor"
   ]
  },
  {
   "cell_type": "code",
   "execution_count": 78,
   "metadata": {},
   "outputs": [],
   "source": [
    "class Node:\n",
    "    def __init__(self, value):\n",
    "        self.value = value\n",
    "        self.next = None"
   ]
  },
  {
   "cell_type": "code",
   "execution_count": 79,
   "metadata": {},
   "outputs": [
    {
     "name": "stdout",
     "output_type": "stream",
     "text": [
      "<__main__.Node object at 0x000001DAD2D90AD0>\n"
     ]
    }
   ],
   "source": [
    "new_node = Node(10)\n",
    "print(new_node)"
   ]
  },
  {
   "cell_type": "markdown",
   "metadata": {},
   "source": [
    "## Linked List Constructor - Creation of Singly Linked List"
   ]
  },
  {
   "cell_type": "code",
   "execution_count": 80,
   "metadata": {},
   "outputs": [],
   "source": [
    "class Node:\n",
    "    def __init__(self, value):\n",
    "        self.value = value\n",
    "        self.next = None\n",
    "\n",
    "\n",
    "class LinkedList:\n",
    "    def __init__(self, value):\n",
    "        new_node = Node(value)\n",
    "        self.head = new_node\n",
    "        self.tail = new_node\n",
    "        self.length = 1"
   ]
  },
  {
   "cell_type": "code",
   "execution_count": 81,
   "metadata": {},
   "outputs": [
    {
     "name": "stdout",
     "output_type": "stream",
     "text": [
      "10\n",
      "1\n"
     ]
    }
   ],
   "source": [
    "new_linked_list = LinkedList(10)\n",
    "print(new_linked_list.head.value)\n",
    "print(new_linked_list.length)"
   ]
  },
  {
   "cell_type": "markdown",
   "metadata": {},
   "source": [
    "### Creating Empty Linked List"
   ]
  },
  {
   "cell_type": "code",
   "execution_count": 82,
   "metadata": {},
   "outputs": [],
   "source": [
    "class Node:\n",
    "    def __init__(self, value):\n",
    "        self.value = value\n",
    "        self.next = None\n",
    "\n",
    "\n",
    "class LinkedList:\n",
    "    def __init__(self):\n",
    "        self.head = None\n",
    "        self.tail = None\n",
    "        self.length = 0"
   ]
  },
  {
   "cell_type": "code",
   "execution_count": 83,
   "metadata": {},
   "outputs": [
    {
     "name": "stdout",
     "output_type": "stream",
     "text": [
      "<__main__.LinkedList object at 0x000001DAD2ADE420>\n"
     ]
    }
   ],
   "source": [
    "print(LinkedList())"
   ]
  },
  {
   "cell_type": "markdown",
   "metadata": {},
   "source": [
    "## Insertion in Singly Linked List in Memory"
   ]
  },
  {
   "cell_type": "markdown",
   "metadata": {},
   "source": [
    "- At the beginning of the linked list.\n",
    "- After a node in the middle of linked list.\n",
    "- At the end of the linked list."
   ]
  },
  {
   "cell_type": "markdown",
   "metadata": {},
   "source": [
    "### Insert an Element at the end of Singly Linked List - Append Method"
   ]
  },
  {
   "cell_type": "code",
   "execution_count": 1,
   "metadata": {},
   "outputs": [],
   "source": [
    "class Node:\n",
    "    def __init__(self, value):\n",
    "        self.value = value\n",
    "        self.next = None\n",
    "\n",
    "\n",
    "class LinkedList:\n",
    "    def __init__(self):\n",
    "        self.head = None\n",
    "        self.tail = None\n",
    "        self.length = 0\n",
    "\n",
    "    def __str__(self):\n",
    "        temp_node = self.head\n",
    "        result = ''\n",
    "\n",
    "        while temp_node is not None:\n",
    "            result += str(temp_node.value)\n",
    "\n",
    "            if temp_node.next is not None:\n",
    "                result += ' -> '\n",
    "\n",
    "            temp_node = temp_node.next\n",
    "\n",
    "        return result\n",
    "\n",
    "    def append(self, value):\n",
    "        new_node = Node(value)\n",
    "\n",
    "        if self.head is None:\n",
    "            self.head = new_node\n",
    "            self.tail = new_node\n",
    "        else:\n",
    "            self.tail.next = new_node\n",
    "            self.tail = new_node\n",
    "\n",
    "        self.length += 1\n",
    "\n",
    "    def prepend(self, value):\n",
    "        new_node = Node(value)\n",
    "\n",
    "        if self.head is None:\n",
    "            self.head = new_node\n",
    "            self.tail = new_node\n",
    "        else:\n",
    "            new_node.next = self.head\n",
    "            self.head = new_node\n",
    "\n",
    "        self.length += 1\n",
    "\n",
    "    def insert(self, index, value):\n",
    "        new_node = Node(value)\n",
    "\n",
    "        if index < 0 or index > self.length:\n",
    "            return False\n",
    "        if self.length == 0:\n",
    "            self.head = new_node\n",
    "            self.tail = new_node\n",
    "        elif index == 0:\n",
    "            new_node.next = self.head\n",
    "            self.head = new_node\n",
    "        else:\n",
    "            temp_node = self.head\n",
    "\n",
    "            for _ in range(index - 1):\n",
    "                temp_node = temp_node.next\n",
    "\n",
    "            new_node.next = temp_node.next\n",
    "            temp_node.next = new_node\n",
    "\n",
    "        self.length += 1\n",
    "        return True\n",
    "\n",
    "    def traverse(self):\n",
    "        current = self.head\n",
    "\n",
    "        # while current:\n",
    "        while current is not None:\n",
    "            print(current.value)\n",
    "            current = current.next\n",
    "\n",
    "    def search(self, target):\n",
    "        current = self.head\n",
    "        index = 0\n",
    "\n",
    "        while current:\n",
    "            if current.value == target:\n",
    "                return index\n",
    "\n",
    "            current = current.next\n",
    "            index += 1\n",
    "\n",
    "        return -1\n",
    "\n",
    "    def get(self, index):\n",
    "        if index == -1:\n",
    "            return self.tail\n",
    "        elif index < -1 or index >= self.length:\n",
    "            return None\n",
    "        else:\n",
    "            current = self.head\n",
    "\n",
    "            for _ in range(index):\n",
    "                current = current.next\n",
    "\n",
    "        return current\n",
    "\n",
    "    def set_value(self, index, value):\n",
    "        temp = self.get(index)\n",
    "\n",
    "        if temp:\n",
    "            temp.value = value\n",
    "            return True\n",
    "\n",
    "        return False\n",
    "\n",
    "    def pop_first(self):\n",
    "        if self.length == 0:\n",
    "            return None\n",
    "\n",
    "        popped_node = self.head\n",
    "\n",
    "        if self.length == 1:\n",
    "            self.head = None\n",
    "            self.tail = None\n",
    "        else:\n",
    "            self.head = self.head.next\n",
    "            popped_node.next = None\n",
    "\n",
    "        self.length -= 0\n",
    "        return popped_node\n",
    "\n",
    "    def pop(self):\n",
    "        if self.length == 0:\n",
    "            return None\n",
    "\n",
    "        popped_node = self.tail\n",
    "\n",
    "        if self.length == 1:\n",
    "            self.head = None\n",
    "            self.tail = None\n",
    "        else:\n",
    "            temp = self.head\n",
    "            while temp.next is not self.tail:\n",
    "                temp = temp.next\n",
    "            self.tail = temp\n",
    "            temp.next = None\n",
    "\n",
    "        self.length -= 1\n",
    "        return popped_node\n",
    "\n",
    "    def remove(self, index):\n",
    "        if index >= self.length or index < -1:\n",
    "            return None\n",
    "\n",
    "        if index == 0:\n",
    "            return self.pop_first()\n",
    "\n",
    "        if index == self.length - 1 or index == -1:\n",
    "            return self.pop()\n",
    "\n",
    "        prev_node = self.get(index - 1)\n",
    "        popped_node = prev_node.next\n",
    "        prev_node.next = popped_node.next\n",
    "        popped_node.next = None\n",
    "        self.length -= 1\n",
    "\n",
    "        return popped_node\n",
    "\n",
    "    def delete_all(self):\n",
    "        self.head = None\n",
    "        self.tail = None\n",
    "        self.length = 0"
   ]
  },
  {
   "cell_type": "code",
   "execution_count": 5,
   "metadata": {},
   "outputs": [
    {
     "name": "stdout",
     "output_type": "stream",
     "text": [
      "10 -> 20 -> 30 -> 40 -> 50\n"
     ]
    }
   ],
   "source": [
    "new_linked_list = LinkedList()\n",
    "new_linked_list.append(10)\n",
    "new_linked_list.append(20)\n",
    "new_linked_list.append(30)\n",
    "new_linked_list.append(40)\n",
    "new_linked_list.append(50)\n",
    "print(new_linked_list)"
   ]
  },
  {
   "cell_type": "code",
   "execution_count": 112,
   "metadata": {},
   "outputs": [
    {
     "name": "stdout",
     "output_type": "stream",
     "text": [
      "0 -> 10 -> 20 -> 30\n",
      "40 -> 0 -> 10 -> 20 -> 30\n"
     ]
    }
   ],
   "source": [
    "new_linked_list = LinkedList()\n",
    "new_linked_list.prepend(0)\n",
    "new_linked_list.append(10)\n",
    "new_linked_list.append(20)\n",
    "new_linked_list.append(30)\n",
    "print(new_linked_list)\n",
    "new_linked_list.prepend(40)\n",
    "print(new_linked_list)"
   ]
  },
  {
   "cell_type": "code",
   "execution_count": 2,
   "metadata": {},
   "outputs": [
    {
     "name": "stdout",
     "output_type": "stream",
     "text": [
      "10 -> 20 -> 30\n",
      "50 -> 20 -> 10 -> 20 -> 30\n"
     ]
    }
   ],
   "source": [
    "new_linked_list = LinkedList()\n",
    "new_linked_list.append(10)\n",
    "new_linked_list.append(20)\n",
    "new_linked_list.append(30)\n",
    "print(new_linked_list)\n",
    "new_linked_list.insert(0, 50)\n",
    "new_linked_list.insert(1, 20)\n",
    "print(new_linked_list)"
   ]
  },
  {
   "cell_type": "code",
   "execution_count": 7,
   "metadata": {},
   "outputs": [
    {
     "name": "stdout",
     "output_type": "stream",
     "text": [
      "10\n",
      "20\n",
      "30\n",
      "40\n",
      "50\n"
     ]
    }
   ],
   "source": [
    "new_linked_list.traverse()"
   ]
  },
  {
   "cell_type": "code",
   "execution_count": 8,
   "metadata": {},
   "outputs": [
    {
     "data": {
      "text/plain": [
       "2"
      ]
     },
     "execution_count": 8,
     "metadata": {},
     "output_type": "execute_result"
    }
   ],
   "source": [
    "new_linked_list.search(30)"
   ]
  },
  {
   "cell_type": "code",
   "execution_count": 23,
   "metadata": {},
   "outputs": [
    {
     "name": "stdout",
     "output_type": "stream",
     "text": [
      "50\n"
     ]
    }
   ],
   "source": [
    "print(new_linked_list.get(-1))"
   ]
  },
  {
   "cell_type": "code",
   "execution_count": 59,
   "metadata": {},
   "outputs": [
    {
     "name": "stdout",
     "output_type": "stream",
     "text": [
      "True\n",
      "10 -> 80 -> 30 -> 40 -> 50\n"
     ]
    }
   ],
   "source": [
    "print(new_linked_list.set_value(1, 80))\n",
    "print(new_linked_list)"
   ]
  },
  {
   "cell_type": "code",
   "execution_count": 62,
   "metadata": {},
   "outputs": [
    {
     "name": "stdout",
     "output_type": "stream",
     "text": [
      "10 -> 20 -> 30 -> 40 -> 50\n",
      "<__main__.Node object at 0x000002222A9F9AC0>\n",
      "20 -> 30 -> 40 -> 50\n"
     ]
    }
   ],
   "source": [
    "print(new_linked_list)\n",
    "print(new_linked_list.pop_first())\n",
    "print(new_linked_list)"
   ]
  },
  {
   "cell_type": "code",
   "execution_count": 73,
   "metadata": {},
   "outputs": [
    {
     "name": "stdout",
     "output_type": "stream",
     "text": [
      "<__main__.Node object at 0x000002222A9F9B80>\n",
      "10 -> 20 -> 30\n"
     ]
    }
   ],
   "source": [
    "print(new_linked_list.pop())\n",
    "print(new_linked_list)"
   ]
  },
  {
   "cell_type": "code",
   "execution_count": 76,
   "metadata": {},
   "outputs": [
    {
     "name": "stdout",
     "output_type": "stream",
     "text": [
      "<__main__.Node object at 0x000002222AC3D730>\n",
      "10 -> 20 -> 30 -> 50\n"
     ]
    }
   ],
   "source": [
    "print(new_linked_list.remove(3))\n",
    "print(new_linked_list)"
   ]
  },
  {
   "cell_type": "code",
   "execution_count": 79,
   "metadata": {},
   "outputs": [
    {
     "name": "stdout",
     "output_type": "stream",
     "text": [
      "\n"
     ]
    }
   ],
   "source": [
    "new_linked_list.delete_all()\n",
    "print(new_linked_list)"
   ]
  },
  {
   "cell_type": "markdown",
   "metadata": {},
   "source": [
    "## Time and Space Complexity of Singly Linked List"
   ]
  },
  {
   "cell_type": "markdown",
   "metadata": {},
   "source": [
    "|                  | Time Complexity | Space Complexity |\n",
    "|------------------|-----------------|------------------|\n",
    "| Create           | O(1)            | O(1)             |\n",
    "| Append           | O(1)            | O(1)             |\n",
    "| Prepend          | O(1)            | O(1)             |\n",
    "| Insert           | O(n)            | O(1)             |\n",
    "| Search           | O(n)            | O(1)             |\n",
    "| Traverse         | O(n)            | O(1)             |\n",
    "| Get              | O(n)            | O(1)             |\n",
    "| Set              | O(n)            | O(1)             |\n",
    "| Pop First        | O(1)            | O(1)             |\n",
    "| Pop              | O(n)            | O(1)             |\n",
    "| Remove           | O(n)            | O(1)             |\n",
    "| Delete all nodes | O(1)            | O(1)             |"
   ]
  },
  {
   "cell_type": "markdown",
   "metadata": {},
   "source": []
  }
 ],
 "metadata": {
  "kernelspec": {
   "display_name": "Python 3 (ipykernel)",
   "language": "python",
   "name": "python3"
  },
  "language_info": {
   "codemirror_mode": {
    "name": "ipython",
    "version": 3
   },
   "file_extension": ".py",
   "mimetype": "text/x-python",
   "name": "python",
   "nbconvert_exporter": "python",
   "pygments_lexer": "ipython3",
   "version": "3.12.1"
  }
 },
 "nbformat": 4,
 "nbformat_minor": 4
}
