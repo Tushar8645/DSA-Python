{
 "cells": [
  {
   "cell_type": "markdown",
   "metadata": {},
   "source": [
    "# Dictionary - Coding Exercises"
   ]
  },
  {
   "cell_type": "markdown",
   "metadata": {},
   "source": [
    "## 1. Count Word Frequency"
   ]
  },
  {
   "cell_type": "markdown",
   "metadata": {},
   "source": [
    "Define a function to count the frequency of words in a given list of words.\n",
    "\n",
    "Example:\n",
    "```\n",
    "words = ['apple', 'orange', 'banana', 'apple', 'orange', 'apple'] \n",
    "count_word_frequency(words) \n",
    "\n",
    "Output: {'apple': 3, 'orange': 2, 'banana': 1}\n",
    "```"
   ]
  },
  {
   "cell_type": "code",
   "execution_count": 4,
   "metadata": {},
   "outputs": [],
   "source": [
    "def count_word_frequency(words):\n",
    "    result = dict()\n",
    "\n",
    "    for word in words:\n",
    "        if word in result:\n",
    "            result[word] += 1\n",
    "        else:\n",
    "            result[word] = 1\n",
    "\n",
    "    return result\n"
   ]
  },
  {
   "cell_type": "code",
   "execution_count": 6,
   "metadata": {},
   "outputs": [],
   "source": [
    "def count_word_frequency(words):\n",
    "    word_count = {}\n",
    "\n",
    "    for word in words:\n",
    "        word_count[word] = word_count.get(word, 0) + 1\n",
    "\n",
    "    return (word_count)\n"
   ]
  },
  {
   "cell_type": "code",
   "execution_count": 7,
   "metadata": {},
   "outputs": [
    {
     "name": "stdout",
     "output_type": "stream",
     "text": [
      "{'apple': 3, 'orange': 2, 'banana': 1}\n"
     ]
    }
   ],
   "source": [
    "words = ['apple', 'orange', 'banana', 'apple', 'orange', 'apple']\n",
    "print(count_word_frequency(words))\n"
   ]
  },
  {
   "cell_type": "markdown",
   "metadata": {},
   "source": [
    "## 2. Common Keys"
   ]
  },
  {
   "cell_type": "markdown",
   "metadata": {},
   "source": [
    "Define a function with takes two dictionaries as parameters and merge them and sum the values of common keys.\n",
    "\n",
    "Example:\n",
    "```\n",
    "dict1 = {'a': 1, 'b': 2, 'c': 3}\n",
    "dict2 = {'b': 3, 'c': 4, 'd': 5}\n",
    "merge_dicts(dict1, dict2)\n",
    "\n",
    "Output: {'a': 1, 'b': 5, 'c': 7, 'd': 5}\n",
    "```"
   ]
  },
  {
   "cell_type": "code",
   "execution_count": 21,
   "metadata": {},
   "outputs": [],
   "source": [
    "def merge_dicts(dict1, dict2):\n",
    "    result = dict1.copy()\n",
    "\n",
    "    for key, value in dict2.items():\n",
    "        result[key] = result.get(key, 0) + value\n",
    "\n",
    "    return result\n"
   ]
  },
  {
   "cell_type": "code",
   "execution_count": 22,
   "metadata": {},
   "outputs": [
    {
     "data": {
      "text/plain": [
       "{'a': 1, 'b': 5, 'c': 7, 'd': 5}"
      ]
     },
     "execution_count": 22,
     "metadata": {},
     "output_type": "execute_result"
    }
   ],
   "source": [
    "dict1 = {'a': 1, 'b': 2, 'c': 3}\n",
    "dict2 = {'b': 3, 'c': 4, 'd': 5}\n",
    "merge_dicts(dict1, dict2)\n"
   ]
  },
  {
   "cell_type": "markdown",
   "metadata": {},
   "source": [
    "## 3. Key with the Highest Value"
   ]
  },
  {
   "cell_type": "markdown",
   "metadata": {},
   "source": [
    "Define a function which takes a dictionary as a parameter and returns the key with the highest value in a dictionary.\n",
    "\n",
    "Example:\n",
    "```\n",
    "my_dict = {'a': 5, 'b': 9, 'c': 2}\n",
    "max_value_key(my_dict)\n",
    "\n",
    "Output: b\n",
    "```"
   ]
  },
  {
   "cell_type": "code",
   "execution_count": 5,
   "metadata": {},
   "outputs": [],
   "source": [
    "def max_value_key(my_dict):\n",
    "    return max(my_dict, key = my_dict.get)"
   ]
  },
  {
   "cell_type": "code",
   "execution_count": 6,
   "metadata": {},
   "outputs": [
    {
     "name": "stdout",
     "output_type": "stream",
     "text": [
      "b\n"
     ]
    }
   ],
   "source": [
    "my_dict = {'a': 5, 'b': 9, 'c': 2}\n",
    "print(max_value_key(my_dict))\n"
   ]
  },
  {
   "cell_type": "markdown",
   "metadata": {},
   "source": [
    "## 4. Reverse Key-Value Pair"
   ]
  },
  {
   "cell_type": "markdown",
   "metadata": {},
   "source": [
    "Define a function which takes as a parameter dictionary and returns a dictionary in which reverse the key-value pairs are reversed.\n",
    "\n",
    "Example:\n",
    "```\n",
    "my_dict = {'a': 1, 'b': 2, 'c': 3}\n",
    "reverse_dict(my_dict)\n",
    "\n",
    "Output: {1: 'a', 2: 'b', 3: 'c'}\n",
    "```"
   ]
  },
  {
   "cell_type": "code",
   "execution_count": 10,
   "metadata": {},
   "outputs": [],
   "source": [
    "def reverse_dict(my_dict):\n",
    "    return {v:k for k, v in my_dict.items()}\n"
   ]
  },
  {
   "cell_type": "code",
   "execution_count": 11,
   "metadata": {},
   "outputs": [
    {
     "name": "stdout",
     "output_type": "stream",
     "text": [
      "{1: 'a', 2: 'b', 3: 'c'}\n"
     ]
    }
   ],
   "source": [
    "my_dict = {'a': 1, 'b': 2, 'c': 3}\n",
    "print(reverse_dict(my_dict))\n"
   ]
  },
  {
   "cell_type": "markdown",
   "metadata": {},
   "source": [
    "## 5. Conditional Filter"
   ]
  },
  {
   "cell_type": "markdown",
   "metadata": {},
   "source": [
    "Define a function that takes a dictionary as a parameter and returns a dictionary with elements based on a condition.\n",
    "\n",
    "Example:\n",
    "```\n",
    "my_dict = {'a': 1, 'b': 2, 'c': 3, 'd': 4}\n",
    "filtered_dict = filter_dict(my_dict, lambda k, v: v % 2 == 0)\n",
    "\n",
    "Output: {'b': 2, 'd': 4}\n",
    "```"
   ]
  },
  {
   "cell_type": "code",
   "execution_count": 21,
   "metadata": {},
   "outputs": [],
   "source": [
    "def filter_dict(my_dict, condition):\n",
    "    return {k:v for k, v in my_dict.items() if condition(k, v)}\n"
   ]
  },
  {
   "cell_type": "code",
   "execution_count": 22,
   "metadata": {},
   "outputs": [
    {
     "name": "stdout",
     "output_type": "stream",
     "text": [
      "{'b': 2, 'd': 4}\n"
     ]
    }
   ],
   "source": [
    "my_dict = {'a': 1, 'b': 2, 'c': 3, 'd': 4} \n",
    "filtered_dict = filter_dict(my_dict, lambda k, v: v % 2 == 0) \n",
    "print(filtered_dict)\n"
   ]
  },
  {
   "cell_type": "markdown",
   "metadata": {},
   "source": [
    "## 6. Same Frequency"
   ]
  },
  {
   "cell_type": "markdown",
   "metadata": {},
   "source": [
    "Define a function which takes two lists as parameters and check if two given lists have the same frequency of elements.\n",
    "\n",
    "Example:\n",
    "```\n",
    "list1 = [1, 2, 3, 2, 1]\n",
    "list2 = [3, 1, 2, 1, 3]\n",
    "check_same_frequency(list1, list2)\n",
    "\n",
    "Output: False\n",
    "```"
   ]
  },
  {
   "cell_type": "code",
   "execution_count": 1,
   "metadata": {},
   "outputs": [],
   "source": [
    "def check_same_frequency(list1, list2):\n",
    "    def count_elements(lst):\n",
    "        counter = {}\n",
    "\n",
    "        for element in lst:\n",
    "            counter[element] = counter.get(element, 0) + 1\n",
    "\n",
    "        return counter\n",
    "\n",
    "    return count_elements(list1) == count_elements(list2)"
   ]
  },
  {
   "cell_type": "code",
   "execution_count": 3,
   "metadata": {},
   "outputs": [
    {
     "name": "stdout",
     "output_type": "stream",
     "text": [
      "False\n"
     ]
    }
   ],
   "source": [
    "list1 = [1, 2, 3, 2, 1]\n",
    "list2 = [3, 1, 2, 1, 3]\n",
    "print(check_same_frequency(list1, list2))"
   ]
  },
  {
   "cell_type": "code",
   "execution_count": null,
   "metadata": {},
   "outputs": [],
   "source": []
  }
 ],
 "metadata": {
  "kernelspec": {
   "display_name": "Python 3 (ipykernel)",
   "language": "python",
   "name": "python3"
  },
  "language_info": {
   "codemirror_mode": {
    "name": "ipython",
    "version": 3
   },
   "file_extension": ".py",
   "mimetype": "text/x-python",
   "name": "python",
   "nbconvert_exporter": "python",
   "pygments_lexer": "ipython3",
   "version": "3.12.1"
  }
 },
 "nbformat": 4,
 "nbformat_minor": 4
}
