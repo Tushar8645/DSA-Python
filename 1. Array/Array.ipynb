{
 "cells": [
  {
   "cell_type": "markdown",
   "id": "3425be65",
   "metadata": {},
   "source": [
    "# Array\n"
   ]
  },
  {
   "cell_type": "markdown",
   "id": "0413526e",
   "metadata": {},
   "source": [
    "## Create an Array\n"
   ]
  },
  {
   "cell_type": "markdown",
   "id": "4b3babd0",
   "metadata": {},
   "source": [
    "| Type code | C Type             | Python Type       | Minimum size in bytes |\n",
    "| --------- | ------------------ | ----------------- | --------------------- |\n",
    "| 'b'       | signed char        | int               | 1                     |\n",
    "| 'B'       | unsigned char      | int               | 1                     |\n",
    "| 'u'       | Py_UNICODE         | Unicode character | 2                     |\n",
    "| 'h'       | signed short       | int               | 2                     |\n",
    "| 'H'       | unsigned short     | int               | 2                     |\n",
    "| 'i'       | signed int         | int               | 2                     |\n",
    "| 'I'       | unsigned int       | int               | 2                     |\n",
    "| 'l'       | signed long        | int               | 4                     |\n",
    "| 'L'       | unsigned long      | int               | 4                     |\n",
    "| 'q'       | signed long long   | int               | 8                     |\n",
    "| 'Q'       | unsigned long long | int               | 8                     |\n",
    "| 'f'       | float              | float             | 4                     |\n",
    "| 'd'       | double             | float             | 8                     |\n"
   ]
  },
  {
   "cell_type": "code",
   "execution_count": 2,
   "id": "3e14b977-ed91-40ac-84b9-f61481cfc038",
   "metadata": {},
   "outputs": [
    {
     "name": "stdout",
     "output_type": "stream",
     "text": [
      "array('i')\n",
      "array('i', [1, 2, 3, 4])\n"
     ]
    }
   ],
   "source": [
    "import array\n",
    "\n",
    "my_array = array.array('i')\n",
    "print(my_array)\n",
    "my_array1 = array.array('i', [1, 2, 3, 4])\n",
    "print(my_array1)"
   ]
  },
  {
   "cell_type": "code",
   "execution_count": 3,
   "id": "d1accc71",
   "metadata": {},
   "outputs": [
    {
     "name": "stdout",
     "output_type": "stream",
     "text": [
      "[]\n",
      "[1 2 3 4]\n"
     ]
    }
   ],
   "source": [
    "import numpy as np\n",
    "\n",
    "np_array = np.array([], dtype=int)\n",
    "print(np_array)\n",
    "np_array1 = np.array([1, 2, 3, 4])\n",
    "print(np_array1)"
   ]
  },
  {
   "cell_type": "markdown",
   "id": "4a648cda",
   "metadata": {},
   "source": [
    "## Insertion of Array\n"
   ]
  },
  {
   "cell_type": "code",
   "execution_count": 4,
   "id": "8acd361a",
   "metadata": {},
   "outputs": [
    {
     "name": "stdout",
     "output_type": "stream",
     "text": [
      "array('i', [1, 2, 3, 4])\n",
      "array('i', [6, 1, 2, 3, 4])\n"
     ]
    }
   ],
   "source": [
    "import array\n",
    "\n",
    "my_array1 = array.array('i', [1, 2, 3, 4])\n",
    "print(my_array1)\n",
    "my_array1.insert(0, 6)\n",
    "print(my_array1)"
   ]
  },
  {
   "cell_type": "markdown",
   "id": "ca836a96",
   "metadata": {},
   "source": [
    "## Array Traversal\n"
   ]
  },
  {
   "cell_type": "code",
   "execution_count": 4,
   "id": "754792be",
   "metadata": {},
   "outputs": [
    {
     "name": "stdout",
     "output_type": "stream",
     "text": [
      "1.3\n",
      "1.5\n",
      "1.6\n"
     ]
    }
   ],
   "source": [
    "from array import *\n",
    "\n",
    "arr1 = array('i', [1, 2, 3, 4, 5, 6])\n",
    "arr2 = array('d', [1.3, 1.5, 1.6])\n",
    "\n",
    "\n",
    "def traverseArray(array):\n",
    "    for i in array:\n",
    "        print(i)\n",
    "\n",
    "\n",
    "traverseArray(arr2)"
   ]
  },
  {
   "cell_type": "markdown",
   "id": "5fdef19d",
   "metadata": {},
   "source": [
    "## Accessing an element of Array\n"
   ]
  },
  {
   "cell_type": "code",
   "execution_count": 5,
   "id": "184db22d",
   "metadata": {},
   "outputs": [
    {
     "name": "stdout",
     "output_type": "stream",
     "text": [
      "6\n"
     ]
    }
   ],
   "source": [
    "from array import *\n",
    "\n",
    "arr1 = array('i', [1, 2, 3, 4, 5, 6])\n",
    "\n",
    "\n",
    "def accessElement(array, index):\n",
    "    if index >= len(array):\n",
    "        return 'There is not any element in this index'\n",
    "    else:\n",
    "        return array[index]\n",
    "\n",
    "\n",
    "print(accessElement(arr1, 5))"
   ]
  },
  {
   "cell_type": "markdown",
   "id": "4d5be395",
   "metadata": {},
   "source": [
    "## Searching for an element in Array\n"
   ]
  },
  {
   "cell_type": "code",
   "execution_count": 6,
   "id": "63d38d14",
   "metadata": {},
   "outputs": [
    {
     "name": "stdout",
     "output_type": "stream",
     "text": [
      "2\n"
     ]
    }
   ],
   "source": [
    "from array import *\n",
    "\n",
    "my_array1 = array('i', [1, 2, 3, 4, 5, 6])\n",
    "\n",
    "\n",
    "def linearSearch(arr, target):\n",
    "    for i in range(len(arr)):\n",
    "        if arr[i] == target:\n",
    "            return arr.index(target)\n",
    "\n",
    "    return 'The element does not exist in this array.'\n",
    "\n",
    "\n",
    "print(linearSearch(my_array1, 3))"
   ]
  },
  {
   "cell_type": "markdown",
   "id": "51d3a50e",
   "metadata": {},
   "source": [
    "## Deleting an element from Array\n"
   ]
  },
  {
   "cell_type": "code",
   "execution_count": 7,
   "id": "b3449d09",
   "metadata": {},
   "outputs": [
    {
     "name": "stdout",
     "output_type": "stream",
     "text": [
      "array('i', [1, 2, 3, 4, 5, 6])\n",
      "array('i', [1, 2, 3, 5, 6])\n"
     ]
    }
   ],
   "source": [
    "from array import *\n",
    "\n",
    "arr1 = array('i', [1, 2, 3, 4, 5, 6])\n",
    "print(arr1)\n",
    "\n",
    "arr1.remove(4)\n",
    "print(arr1)"
   ]
  },
  {
   "cell_type": "markdown",
   "id": "c03dc205",
   "metadata": {},
   "source": [
    "## Time and Space Complexity of One Dimensional Array\n"
   ]
  },
  {
   "cell_type": "markdown",
   "id": "7b8e04fb",
   "metadata": {},
   "source": [
    "| Operation                       | Time Complexity | Space Complexity |\n",
    "| ------------------------------- | --------------- | ---------------- |\n",
    "| Creating an empty array         | O(1)            | O(1)             |\n",
    "| Creating an array with elements | O(n)            | O(n)             |\n",
    "| Inserting a value in an array   | O(n)            | O(1)             |\n",
    "| Traversing a given array        | O(n)            | O(1)             |\n",
    "| Accessing a given cell          | O(1)            | O(1)             |\n",
    "| Searching a given value         | O(n)            | O(1)             |\n",
    "| Deleting a given value          | O(n)            | O(1)             |\n"
   ]
  },
  {
   "cell_type": "markdown",
   "id": "73e8c5d0",
   "metadata": {},
   "source": []
  }
 ],
 "metadata": {
  "kernelspec": {
   "display_name": "Python 3 (ipykernel)",
   "language": "python",
   "name": "python3"
  },
  "language_info": {
   "codemirror_mode": {
    "name": "ipython",
    "version": 3
   },
   "file_extension": ".py",
   "mimetype": "text/x-python",
   "name": "python",
   "nbconvert_exporter": "python",
   "pygments_lexer": "ipython3",
   "version": "3.12.3"
  }
 },
 "nbformat": 4,
 "nbformat_minor": 5
}
