{
 "cells": [
  {
   "cell_type": "markdown",
   "metadata": {},
   "source": [
    "# Two Dimensional Array"
   ]
  },
  {
   "cell_type": "markdown",
   "metadata": {},
   "source": [
    "## Create Two Dimensional Array"
   ]
  },
  {
   "cell_type": "markdown",
   "metadata": {},
   "source": [
    "- Row 1 - 11, 15, 10, 6\n",
    "- Row 2 - 10, 14, 11, 5\n",
    "- Row 3 - 12, 17, 22, 8\n",
    "- Row 4 - 15, 18, 14, 9"
   ]
  },
  {
   "cell_type": "code",
   "execution_count": 1,
   "metadata": {
    "ExecuteTime": {
     "end_time": "2024-02-04T08:55:28.000548600Z",
     "start_time": "2024-02-04T08:55:26.780377800Z"
    }
   },
   "outputs": [],
   "source": [
    "import numpy as np"
   ]
  },
  {
   "cell_type": "code",
   "execution_count": 2,
   "metadata": {
    "ExecuteTime": {
     "end_time": "2024-02-04T08:55:28.018340600Z",
     "start_time": "2024-02-04T08:55:28.009377100Z"
    }
   },
   "outputs": [
    {
     "name": "stdout",
     "output_type": "stream",
     "text": [
      "[[11 15 10  6]\n",
      " [10 14 11  5]\n",
      " [12 17 22  8]\n",
      " [15 18 14  9]]\n"
     ]
    }
   ],
   "source": [
    "two_dimensional_array = np.array([\n",
    "    [11, 15, 10, 6],\n",
    "    [10, 14, 11, 5],\n",
    "    [12, 17, 22, 8],\n",
    "    [15, 18, 14, 9],\n",
    "])\n",
    "print(two_dimensional_array)"
   ]
  },
  {
   "cell_type": "markdown",
   "metadata": {},
   "source": [
    "## Insertion - Two Dimensional Array"
   ]
  },
  {
   "cell_type": "code",
   "execution_count": 4,
   "metadata": {
    "ExecuteTime": {
     "end_time": "2024-02-04T08:55:28.116062200Z",
     "start_time": "2024-02-04T08:55:28.017256100Z"
    }
   },
   "outputs": [
    {
     "name": "stdout",
     "output_type": "stream",
     "text": [
      "[[11 15 10  6]\n",
      " [ 1  2  3  4]\n",
      " [10 14 11  5]\n",
      " [12 17 22  8]\n",
      " [15 18 14  9]]\n"
     ]
    }
   ],
   "source": [
    "new_two_dimensional_array = np.insert(\n",
    "    two_dimensional_array, 1, [[1, 2, 3, 4]], axis=0\n",
    ")\n",
    "print(new_two_dimensional_array)"
   ]
  },
  {
   "cell_type": "code",
   "execution_count": 5,
   "metadata": {
    "ExecuteTime": {
     "end_time": "2024-02-04T08:55:28.118132100Z",
     "start_time": "2024-02-04T08:55:28.030624500Z"
    }
   },
   "outputs": [
    {
     "name": "stdout",
     "output_type": "stream",
     "text": [
      "[[11 15 10  6]\n",
      " [10 14 11  5]\n",
      " [12 17 22  8]\n",
      " [15 18 14  9]\n",
      " [ 1  2  3  4]]\n"
     ]
    }
   ],
   "source": [
    "new_two_dimensional_array = np.append(\n",
    "    two_dimensional_array, [[1, 2, 3, 4]], axis=0)\n",
    "print(new_two_dimensional_array)"
   ]
  },
  {
   "cell_type": "markdown",
   "metadata": {},
   "source": [
    "## Accessing an Element of Two Dimensional Array"
   ]
  },
  {
   "cell_type": "code",
   "execution_count": 7,
   "metadata": {
    "ExecuteTime": {
     "end_time": "2024-02-04T08:55:28.120297300Z",
     "start_time": "2024-02-04T08:55:28.043482900Z"
    }
   },
   "outputs": [
    {
     "name": "stdout",
     "output_type": "stream",
     "text": [
      "14\n"
     ]
    }
   ],
   "source": [
    "def accessElement(array, row_index, col_index):\n",
    "    if row_index >= len(array) or col_index >= len(array[0]):\n",
    "        print('Incorrect index')\n",
    "    else:\n",
    "        print(array[row_index][col_index])\n",
    "\n",
    "\n",
    "accessElement(two_dimensional_array, 3, 2)\n"
   ]
  },
  {
   "cell_type": "markdown",
   "metadata": {},
   "source": [
    "## Traversal - Two Dimensional Array"
   ]
  },
  {
   "cell_type": "code",
   "execution_count": 8,
   "metadata": {
    "ExecuteTime": {
     "end_time": "2024-02-04T08:55:28.143401700Z",
     "start_time": "2024-02-04T08:55:28.056143600Z"
    }
   },
   "outputs": [
    {
     "name": "stdout",
     "output_type": "stream",
     "text": [
      "11\n",
      "15\n",
      "10\n",
      "6\n",
      "10\n",
      "14\n",
      "11\n",
      "5\n",
      "12\n",
      "17\n",
      "22\n",
      "8\n",
      "15\n",
      "18\n",
      "14\n",
      "9\n"
     ]
    }
   ],
   "source": [
    "def traverseElement(array):\n",
    "    for i in range(len(array)):\n",
    "        for j in range(len(array[0])):\n",
    "            print(array[i][j])\n",
    "\n",
    "\n",
    "traverseElement(two_dimensional_array)\n"
   ]
  },
  {
   "cell_type": "markdown",
   "metadata": {},
   "source": [
    "## Searching for an Element in Two Dimensional Array"
   ]
  },
  {
   "cell_type": "code",
   "execution_count": 9,
   "metadata": {
    "ExecuteTime": {
     "end_time": "2024-02-04T08:55:28.290341200Z",
     "start_time": "2024-02-04T08:55:28.067981100Z"
    }
   },
   "outputs": [
    {
     "name": "stdout",
     "output_type": "stream",
     "text": [
      "The value is located at index 2 2\n"
     ]
    }
   ],
   "source": [
    "def searchElement(array, value):\n",
    "    for i in range(len(array)):\n",
    "        for j in range(len(array[0])):\n",
    "            if array[i][j] == value:\n",
    "                return 'The value is located at index {} {}'.format(i, j)\n",
    "\n",
    "    return 'The element is not found'\n",
    "\n",
    "\n",
    "print(searchElement(two_dimensional_array, 22))\n"
   ]
  },
  {
   "cell_type": "markdown",
   "metadata": {},
   "source": [
    "## Deletion - Two Dimensional Array"
   ]
  },
  {
   "cell_type": "code",
   "execution_count": 10,
   "metadata": {
    "ExecuteTime": {
     "end_time": "2024-02-04T08:55:28.292488700Z",
     "start_time": "2024-02-04T08:55:28.080356800Z"
    }
   },
   "outputs": [
    {
     "name": "stdout",
     "output_type": "stream",
     "text": [
      "[[11 15 10  6]\n",
      " [12 17 22  8]\n",
      " [15 18 14  9]]\n"
     ]
    }
   ],
   "source": [
    "new_two_dimensional_array = np.delete(two_dimensional_array, 1, axis=0)\n",
    "print(new_two_dimensional_array)\n"
   ]
  },
  {
   "cell_type": "markdown",
   "metadata": {},
   "source": [
    "| Operation                          | Time Complexity | Space Complexity |\n",
    "|------------------------------------|-----------------|------------------|\n",
    "| Creating an empty array            | O(1)            | O(1)             |\n",
    "| Creating an array with elements    | O(mn)           | O(mn)            |\n",
    "| Inserting a column/row in an array | O(mn)           | O(mn)            |\n",
    "| Traversing a given array           | O(mn)           | O(1)             |\n",
    "| Accessing a given cell             | O(1)            | O(1)             |\n",
    "| Searching a given value            | O(mn)           | O(1)             |\n",
    "| Deleting a column/row              | O(mn)           | O(mn)            |"
   ]
  },
  {
   "cell_type": "code",
   "execution_count": 10,
   "metadata": {
    "ExecuteTime": {
     "end_time": "2024-02-04T08:55:28.293506200Z",
     "start_time": "2024-02-04T08:55:28.090420100Z"
    }
   },
   "outputs": [],
   "source": []
  }
 ],
 "metadata": {
  "kernelspec": {
   "display_name": "Python 3 (ipykernel)",
   "language": "python",
   "name": "python3"
  },
  "language_info": {
   "codemirror_mode": {
    "name": "ipython",
    "version": 3
   },
   "file_extension": ".py",
   "mimetype": "text/x-python",
   "name": "python",
   "nbconvert_exporter": "python",
   "pygments_lexer": "ipython3",
   "version": "3.12.3"
  }
 },
 "nbformat": 4,
 "nbformat_minor": 4
}
