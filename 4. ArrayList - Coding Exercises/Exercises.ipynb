{
 "cells": [
  {
   "cell_type": "markdown",
   "metadata": {},
   "source": [
    "# Array/List - Coding Exercises - LeetCode - Cracking FAANG Interview Questions"
   ]
  },
  {
   "cell_type": "markdown",
   "metadata": {
    "id": "3iIVCL7TEMHr"
   },
   "source": [
    "## 1. Missing Number\n"
   ]
  },
  {
   "cell_type": "markdown",
   "metadata": {
    "id": "kTN2SSfgEMH7"
   },
   "source": [
    "Write a function to find the missing number in a given integer array of 1 to 100.\n",
    "\n",
    "```\n",
    "Example:\n",
    "missing_number([1, 2, 3, 4, 6], 6) # 5\n",
    "```\n"
   ]
  },
  {
   "cell_type": "code",
   "execution_count": null,
   "metadata": {
    "colab": {
     "base_uri": "https://localhost:8080/"
    },
    "executionInfo": {
     "elapsed": 31,
     "status": "ok",
     "timestamp": 1698123856968,
     "user": {
      "displayName": "Tushar Srivastava",
      "userId": "02525546816929118906"
     },
     "user_tz": -330
    },
    "id": "NZyBR4QQET_v",
    "outputId": "f55fcec8-42f1-47cd-ff5d-6d8fb29953d4"
   },
   "outputs": [
    {
     "name": "stdout",
     "output_type": "stream",
     "text": [
      "5\n"
     ]
    }
   ],
   "source": [
    "def missing_number(arr, n):\n",
    "    total = n * (n + 1) // 2\n",
    "    sum_arr = sum(arr)\n",
    "    missing = total - sum_arr\n",
    "\n",
    "    return missing\n",
    "\n",
    "\n",
    "print(missing_number([1, 2, 3, 4, 6], 6))\n"
   ]
  },
  {
   "cell_type": "markdown",
   "metadata": {
    "id": "MgimUzydEWgK"
   },
   "source": [
    "## 2. Pairs/Two Sum\n"
   ]
  },
  {
   "cell_type": "markdown",
   "metadata": {
    "id": "vKwfF8K65s3r"
   },
   "source": [
    "Given an array of integers `nums` and an integer `target`, return indices of the two numbers such that they add up to `target`.\n",
    "<br>\n",
    "You may assume that each input would have exactly one solution, and you may not use the same element twice.\n",
    "<br>\n",
    "You can return the answer in any order.\n",
    "\n",
    "Example 1:\n",
    "\n",
    "```\n",
    "Input: nums = [2, 7, 11, 15], target = 9\n",
    "Output: [0, 1]\n",
    "Output: Because nums[0] + nums[1] = 9, we return [0, 1]\n",
    "```\n",
    "\n",
    "Example 2:\n",
    "\n",
    "```\n",
    "Input: nums = [3, 2, 4], target = 6\n",
    "Output: [1, 2]\n",
    "```\n",
    "\n",
    "Example 3:\n",
    "\n",
    "```\n",
    "Input: nums[3, 3], target = 6\n",
    "Output: [0, 1]\n",
    "```\n",
    "\n",
    "---\n",
    "#### Note:\n",
    "> Write a program to find all pairs of integers whose sum is equal to a given number.\n",
    "\n",
    "```\n",
    "[2, 6, 3, 9, 11] 9 --> [6, 3]\n",
    "```\n",
    "\n",
    "> Does array contain only positive or negative numbers?\n",
    "\n",
    "> What if the same pair repeats twice, should we print it array time?\n",
    "\n",
    "> If the reverse of the pair is acceptable e.g. can we print both (4, 1) & (1, 4) if the given sum is 5.\n",
    "\n",
    "> Do we need to print only distinct pairs? Does (3, 3) is a valid pair forgiven sum of 6?\n",
    "\n",
    "> How big is the array?\n"
   ]
  },
  {
   "cell_type": "markdown",
   "metadata": {
    "id": "uHd3yQbNvHGs"
   },
   "source": [
    "### Two Sum\n"
   ]
  },
  {
   "cell_type": "code",
   "execution_count": null,
   "metadata": {
    "id": "ybNbP3aE5s3s"
   },
   "outputs": [],
   "source": [
    "def findPairs(nums, target):\n",
    "    for i in range(len(nums)):\n",
    "        for j in range(i + 1, len(nums)):\n",
    "            if nums[i] == nums[j]:\n",
    "                continue\n",
    "            elif nums[i] + nums[j] == target:\n",
    "                print(i, j)\n"
   ]
  },
  {
   "cell_type": "code",
   "execution_count": null,
   "metadata": {
    "id": "1IP4ZkVg5s3s",
    "outputId": "eaebeaa8-cf79-4382-e455-6b0aaed4f81b"
   },
   "outputs": [
    {
     "name": "stdout",
     "output_type": "stream",
     "text": [
      "0 6\n",
      "1 5\n",
      "3 5\n"
     ]
    }
   ],
   "source": [
    "my_list = [1, 2, 3, 2, 3, 4, 5, 6]\n",
    "findPairs(my_list, 6)\n"
   ]
  },
  {
   "cell_type": "markdown",
   "metadata": {
    "id": "HUE9OwWE5s3t"
   },
   "source": [
    "### Pairs\n"
   ]
  },
  {
   "cell_type": "code",
   "execution_count": null,
   "metadata": {
    "id": "_AYm-ugJvHGz"
   },
   "outputs": [],
   "source": [
    "def twoSum(nums, target):\n",
    "    seen = {}\n",
    "\n",
    "    for i, num in enumerate(nums):\n",
    "        complement = target - num\n",
    "\n",
    "        if complement in seen:\n",
    "            return [seen[complement], i]\n",
    "\n",
    "        seen[num] = i\n"
   ]
  },
  {
   "cell_type": "code",
   "execution_count": null,
   "metadata": {
    "id": "eVpGMT_QvHG0",
    "outputId": "fb24d6a5-3247-42fd-b86f-acae002a5585"
   },
   "outputs": [
    {
     "name": "stdout",
     "output_type": "stream",
     "text": [
      "Indices of the two numbers are: [0, 1]\n"
     ]
    }
   ],
   "source": [
    "nums = [2, 7, 11, 15]\n",
    "target = 9\n",
    "indices = twoSum(nums, target)\n",
    "print(f'Indices of the two numbers are: {indices}')\n"
   ]
  },
  {
   "cell_type": "markdown",
   "metadata": {
    "id": "mJoekiD4vHG2"
   },
   "source": [
    "## 3. Max Product of Two Integers\n"
   ]
  },
  {
   "cell_type": "markdown",
   "metadata": {
    "id": "mlnXJ3lXvHG3"
   },
   "source": [
    "Find the maximum product of two integers in an array where all elements are positive.\n",
    "\n",
    "Example:\n",
    "\n",
    "```\n",
    "arr = [1, 7, 3, 4, 9, 5]\n",
    "max_product(arr) # Output: 63 (9*7)\n",
    "```\n"
   ]
  },
  {
   "cell_type": "markdown",
   "metadata": {
    "id": "mHn42LE7vHG4"
   },
   "source": [
    "### Method 1"
   ]
  },
  {
   "cell_type": "code",
   "execution_count": null,
   "metadata": {
    "id": "izaoOGs0vHG4"
   },
   "outputs": [],
   "source": [
    "def max_product(arr):\n",
    "    arr.sort()\n",
    "    return arr[-1] * arr[-2]\n"
   ]
  },
  {
   "cell_type": "code",
   "execution_count": null,
   "metadata": {
    "id": "a6uplld8vHG5",
    "outputId": "6a245276-0a38-4cf3-eb6c-9d7835257bd4"
   },
   "outputs": [
    {
     "name": "stdout",
     "output_type": "stream",
     "text": [
      "63\n"
     ]
    }
   ],
   "source": [
    "arr = [1, 7, 3, 4, 9, 5]\n",
    "print(max_product(arr))\n"
   ]
  },
  {
   "cell_type": "markdown",
   "metadata": {
    "id": "REHQn02ovHG6"
   },
   "source": [
    "### Method 2"
   ]
  },
  {
   "cell_type": "code",
   "execution_count": null,
   "metadata": {
    "id": "Tr_AFbLevHG7"
   },
   "outputs": [],
   "source": [
    "def max_product(arr):\n",
    "    max1, max2 = 0, 0\n",
    "\n",
    "    for num in arr:\n",
    "        if num > max1:\n",
    "            max2 = max1\n",
    "            max1 = num\n",
    "        elif num > max2:\n",
    "            max2 = num\n",
    "\n",
    "    return max1 * max2\n"
   ]
  },
  {
   "cell_type": "code",
   "execution_count": null,
   "metadata": {
    "id": "kPQzOJTovHG7",
    "outputId": "aff0afe0-f2f8-43c5-89b1-c5b962e12a7c"
   },
   "outputs": [
    {
     "name": "stdout",
     "output_type": "stream",
     "text": [
      "63\n"
     ]
    }
   ],
   "source": [
    "arr = [1, 7, 3, 4, 9, 5]\n",
    "print(max_product(arr))\n"
   ]
  },
  {
   "cell_type": "markdown",
   "metadata": {
    "id": "TVMlwZaRvHG8"
   },
   "source": [
    "## 4. Middle Function"
   ]
  },
  {
   "cell_type": "markdown",
   "metadata": {
    "id": "6j6MBrB8vHG9"
   },
   "source": [
    "Write a function called middle that takes a list and returns a new list that contains all but the first and last elements.\n",
    "\n",
    "Example:\n",
    "```\n",
    "myList = [1, 2, 3, 4]\n",
    "middle(myList) # [2, 3]\n",
    "```"
   ]
  },
  {
   "cell_type": "code",
   "execution_count": null,
   "metadata": {
    "id": "spl5L3VlvHG9"
   },
   "outputs": [],
   "source": [
    "def middle(myList):\n",
    "    return myList[1:-1]\n"
   ]
  },
  {
   "cell_type": "code",
   "execution_count": null,
   "metadata": {
    "id": "bYzidYixvHG-",
    "outputId": "12c438df-da0a-42ac-e8b0-36f1ca5ad7aa"
   },
   "outputs": [
    {
     "name": "stdout",
     "output_type": "stream",
     "text": [
      "[2, 3]\n"
     ]
    }
   ],
   "source": [
    "myList = [1, 2, 3, 4]\n",
    "print(middle(myList))\n"
   ]
  },
  {
   "cell_type": "markdown",
   "metadata": {
    "id": "Hx2CNamDvHG_"
   },
   "source": [
    "## 5. 2D List"
   ]
  },
  {
   "cell_type": "markdown",
   "metadata": {
    "id": "AnY6pHyevHG_"
   },
   "source": [
    "Given 2D list calculate the sum of diagonal elements.\n",
    "\n",
    "Example:\n",
    "```\n",
    "myList2D = [[1, 2, 3], [4, 5, 6], [7, 8, 9]]\n",
    "\n",
    "diagonal_sum(myList2D) # 15\n",
    "```"
   ]
  },
  {
   "cell_type": "code",
   "execution_count": null,
   "metadata": {
    "id": "6tn6kIxPvHHA"
   },
   "outputs": [],
   "source": [
    "def diagonal_sum(matrix):\n",
    "    total = 0\n",
    "\n",
    "    for i in range(len(matrix)):\n",
    "        total += matrix[i][i]\n",
    "\n",
    "    return total\n"
   ]
  },
  {
   "cell_type": "code",
   "execution_count": null,
   "metadata": {
    "id": "iYZzWf6YvHHA",
    "outputId": "ad397778-1c04-439c-9942-4f3cee5beb2e"
   },
   "outputs": [
    {
     "name": "stdout",
     "output_type": "stream",
     "text": [
      "15\n"
     ]
    }
   ],
   "source": [
    "myList2D = [[1, 2, 3], [4, 5, 6], [7, 8, 9]]\n",
    "print(diagonal_sum(myList2D))\n"
   ]
  },
  {
   "cell_type": "markdown",
   "metadata": {
    "id": "sxYjnIGvvHHB"
   },
   "source": [
    "## 6. Best Score"
   ]
  },
  {
   "cell_type": "markdown",
   "metadata": {
    "id": "WKyyowtAvHHB"
   },
   "source": [
    "Given a list, write a function to get first, second best scores from the list.\n",
    "<br>\n",
    "List may contain duplicates.\n",
    "\n",
    "Example\n",
    "```\n",
    "myList = [84, 85, 86, 87, 85, 90, 85, 83, 23, 45, 84, 1, 2, 0]\n",
    "first_second(myList) # 90 87\n",
    "```"
   ]
  },
  {
   "cell_type": "code",
   "execution_count": null,
   "metadata": {
    "id": "lTVVDvgDvHHC"
   },
   "outputs": [],
   "source": [
    "def first_second(givenList):\n",
    "    max1, max2 = 0, 0\n",
    "\n",
    "    for num in givenList:\n",
    "        if num > max1:\n",
    "            max2 = max1\n",
    "            max1 = num\n",
    "        elif num > max2 and num != max1:\n",
    "            max2 = num\n",
    "\n",
    "    return max1, max2\n"
   ]
  },
  {
   "cell_type": "code",
   "execution_count": null,
   "metadata": {
    "id": "nFoMwcQBvHHD",
    "outputId": "fc28b861-bb5a-4e0d-8419-374dfd5f7efa"
   },
   "outputs": [
    {
     "name": "stdout",
     "output_type": "stream",
     "text": [
      "(90, 87)\n"
     ]
    }
   ],
   "source": [
    "myList = [84, 85, 86, 87, 85, 90, 85, 83, 23, 45, 84, 1, 2, 0]\n",
    "print(first_second(myList))\n"
   ]
  },
  {
   "cell_type": "markdown",
   "metadata": {
    "id": "PT0MVXFnvHHD"
   },
   "source": [
    "## 7. Duplicate Number"
   ]
  },
  {
   "cell_type": "markdown",
   "metadata": {
    "id": "Q2t4PBcBvHHE"
   },
   "source": [
    "Write a function to remove the duplicate numbers on given integer array/list.\n",
    "\n",
    "Example\n",
    "```\n",
    "remove_duplicates([1, 1, 2, 2, 3, 4, 5])\n",
    "Output: [1, 2, 3, 4, 5]\n",
    "```\n"
   ]
  },
  {
   "cell_type": "code",
   "execution_count": null,
   "metadata": {
    "id": "CUC85BJcvHHF"
   },
   "outputs": [],
   "source": [
    "def remove_duplicates(lst):\n",
    "    unique_lst = []\n",
    "    seen = set()\n",
    "\n",
    "    for item in lst:\n",
    "        if item not in seen:\n",
    "            unique_lst.append(item)\n",
    "            seen.add(item)\n",
    "\n",
    "    return unique_lst\n"
   ]
  },
  {
   "cell_type": "code",
   "execution_count": null,
   "metadata": {
    "id": "KTq_FWuSvHHF",
    "outputId": "a79a1b39-4bdd-44f2-ba32-af30021d5e1e"
   },
   "outputs": [
    {
     "name": "stdout",
     "output_type": "stream",
     "text": [
      "[1, 2, 3, 4, 5]\n"
     ]
    }
   ],
   "source": [
    "print(remove_duplicates([1, 1, 2, 2, 3, 4, 5]))\n"
   ]
  },
  {
   "cell_type": "markdown",
   "metadata": {
    "id": "kQlv0O6qvHHG"
   },
   "source": [
    "## 8. Pairs"
   ]
  },
  {
   "cell_type": "markdown",
   "metadata": {
    "id": "W3X9efZDvHHH"
   },
   "source": [
    "Write a function to find all pairs of an integer array whose sum is equal to a given number. Do not consider commutative pairs.\n",
    "\n",
    "Example\n",
    "```\n",
    "pair_sum([2, 4, 3, 5, 6, -2, 4, 7, 8, 9], 7)\n",
    "Output : ['2+5', '4+3', '3+4', '-2+9']\n",
    "```\n",
    "\n",
    "---\n",
    "#### Note:\n",
    "> 4+3 comes from second and third elements from the main list.\n",
    "\n",
    "> 3+4 comes from third and seventh elements from the main list."
   ]
  },
  {
   "cell_type": "code",
   "execution_count": null,
   "metadata": {
    "id": "VYLygWFKvHHH"
   },
   "outputs": [],
   "source": [
    "def pair_sum(myList, sum):\n",
    "    result = []\n",
    "\n",
    "    for i in range(len(myList)):\n",
    "        for j in range(i + 1, len(myList)):\n",
    "            if myList[i] + myList[j] == sum:\n",
    "                result.append('{}+{}'.format(myList[i], myList[j]))\n",
    "\n",
    "    return result\n"
   ]
  },
  {
   "cell_type": "code",
   "execution_count": null,
   "metadata": {
    "id": "mXpfLrwgvHHI",
    "outputId": "d462ab83-80de-48a7-9957-2969a642f0bb"
   },
   "outputs": [
    {
     "name": "stdout",
     "output_type": "stream",
     "text": [
      "['2+5', '4+3', '3+4', '-2+9']\n"
     ]
    }
   ],
   "source": [
    "arr = [2, 4, 3, 5, 6, -2, 4, 7, 8, 9]\n",
    "target_sum = 7\n",
    "print(pair_sum(arr, target_sum))\n"
   ]
  },
  {
   "cell_type": "markdown",
   "metadata": {
    "id": "gvI5V9rzvHHa"
   },
   "source": [
    "## 9. Contains Duplicate"
   ]
  },
  {
   "cell_type": "markdown",
   "metadata": {
    "id": "yruoR5bzvHHa"
   },
   "source": [
    "Given an integer array nums, return true if any value appears at least twice in the array, and return false if every element is distinct.\n",
    "\n",
    "Example :\n",
    "```\n",
    "Input: nums = [1,2,3,1]\n",
    "Output: True\n",
    "```\n",
    "\n",
    "---\n",
    "Hint: Use sets"
   ]
  },
  {
   "cell_type": "code",
   "execution_count": null,
   "metadata": {
    "id": "6LpisVcvvHHb"
   },
   "outputs": [],
   "source": [
    "def contains_duplicate(nums):\n",
    "    seen = set()\n",
    "\n",
    "    for num in nums:\n",
    "        if num in seen:\n",
    "            return True\n",
    "\n",
    "        seen.add(num)\n",
    "\n",
    "    return False\n"
   ]
  },
  {
   "cell_type": "code",
   "execution_count": null,
   "metadata": {
    "id": "4-ZltpBMvHHc",
    "outputId": "6887b05b-2933-4dab-e9f7-0813e7dc2fa4"
   },
   "outputs": [
    {
     "data": {
      "text/plain": [
       "True"
      ]
     },
     "execution_count": 15,
     "metadata": {},
     "output_type": "execute_result"
    }
   ],
   "source": [
    "nums =  [1, 2, 3, 4, 5, 6, 7, 8, 9, 1]\n",
    "contains_duplicate(nums)\n"
   ]
  },
  {
   "cell_type": "markdown",
   "metadata": {
    "id": "icHTOrC8vHHd"
   },
   "source": [
    "## 10. Permutation"
   ]
  },
  {
   "cell_type": "code",
   "execution_count": null,
   "metadata": {
    "id": "nKMcmEuTvHHd"
   },
   "outputs": [],
   "source": [
    "def permutation(list1, list2):\n",
    "    if len(list1) != len(list2):\n",
    "        return False\n",
    "\n",
    "    list1.sort()\n",
    "    list2.sort()\n",
    "\n",
    "    if list1 == list2:\n",
    "        return True\n",
    "    else:\n",
    "        return False\n"
   ]
  },
  {
   "cell_type": "code",
   "execution_count": null,
   "metadata": {
    "id": "gsOquJzPvHHe",
    "outputId": "e047b312-841c-4809-edc1-f67c87a395d8"
   },
   "outputs": [
    {
     "name": "stdout",
     "output_type": "stream",
     "text": [
      "True\n"
     ]
    }
   ],
   "source": [
    "list1 = [1, 2, 3]\n",
    "list2 = [1, 3, 2]\n",
    "print(permutation(list1, list2))\n"
   ]
  },
  {
   "cell_type": "code",
   "execution_count": null,
   "metadata": {
    "id": "-pODugSTvHHf",
    "outputId": "eabbd1f9-13b1-490d-e5c1-31dbfd23c2c6"
   },
   "outputs": [
    {
     "name": "stdout",
     "output_type": "stream",
     "text": [
      "False\n"
     ]
    }
   ],
   "source": [
    "list1 = ['a', 'c', 'd']\n",
    "list2 = ['c', 'a', 'b']\n",
    "print(permutation(list1, list2))\n"
   ]
  },
  {
   "cell_type": "markdown",
   "metadata": {
    "id": "AY7RVj4zvHHg"
   },
   "source": [
    "## 11. Rotate Matrix/Image"
   ]
  },
  {
   "attachments": {
    "image.png": {
     "image/png": "[encoded data removed]"
    }
   },
   "cell_type": "markdown",
   "metadata": {
    "id": "IAWfjCtBvHHg"
   },
   "source": [
    "You are given an n x n 2D matrix representing an image, rotate the image by 90 degrees (clockwise).\n",
    "<br>\n",
    "You have to rotate the image in-place, which means you have to modify the input 2D matrix directly.\n",
    "<br>\n",
    "DO NOT allocate another 2D matrix and do the rotation.\n",
    "\n",
    "Example:\n",
    "\n",
    "![image.png](attachment:image.png)\n",
    "```\n",
    "Input: matrix = [[1,2,3],[4,5,6],[7,8,9]]\n",
    "Output: [[7,4,1],[8,5,2],[9,6,3]]\n",
    "```"
   ]
  },
  {
   "cell_type": "code",
   "execution_count": 57,
   "metadata": {
    "id": "ADZruUOPvHHh"
   },
   "outputs": [],
   "source": [
    "def rotate(matrix):\n",
    "    n = len(matrix)\n",
    "\n",
    "    for i in range(n):\n",
    "        for j in range(i, n):\n",
    "            matrix[i][j], matrix[j][i] = matrix[j][i], matrix[i][j]\n",
    "\n",
    "    for row in matrix:\n",
    "        row.reverse()\n",
    "\n",
    "    return matrix\n"
   ]
  },
  {
   "cell_type": "code",
   "execution_count": 58,
   "metadata": {},
   "outputs": [
    {
     "name": "stdout",
     "output_type": "stream",
     "text": [
      "[[7, 4, 1], [8, 5, 2], [9, 6, 3]]\n"
     ]
    }
   ],
   "source": [
    "matrix = [[1, 2, 3], [4, 5, 6], [7, 8, 9]]\n",
    "print(rotate(matrix))\n"
   ]
  },
  {
   "cell_type": "code",
   "execution_count": null,
   "metadata": {},
   "outputs": [],
   "source": []
  }
 ],
 "metadata": {
  "colab": {
   "provenance": [],
   "toc_visible": true
  },
  "kernelspec": {
   "display_name": "Python 3 (ipykernel)",
   "language": "python",
   "name": "python3"
  },
  "language_info": {
   "codemirror_mode": {
    "name": "ipython",
    "version": 3
   },
   "file_extension": ".py",
   "mimetype": "text/x-python",
   "name": "python",
   "nbconvert_exporter": "python",
   "pygments_lexer": "ipython3",
   "version": "3.11.5"
  }
 },
 "nbformat": 4,
 "nbformat_minor": 4
}
