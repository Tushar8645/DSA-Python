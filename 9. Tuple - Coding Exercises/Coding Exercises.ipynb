{
 "cells": [
  {
   "cell_type": "markdown",
   "metadata": {},
   "source": [
    "# Tuple - Coding Exercises"
   ]
  },
  {
   "cell_type": "markdown",
   "metadata": {},
   "source": [
    "## 1. Sum and Product"
   ]
  },
  {
   "cell_type": "markdown",
   "metadata": {},
   "source": [
    "Write a function that calculates the sum and product of all elements in a tuple of numbers.\n",
    "\n",
    "Example:\n",
    "```\n",
    "input_tuple = (1, 2, 3, 4)\n",
    "sum_result, product_result = sum_product(input_tuple)\n",
    "print(sum_result, product_result)\n",
    "\n",
    "Expected output: 10, 24\n",
    "```"
   ]
  },
  {
   "cell_type": "code",
   "execution_count": 2,
   "metadata": {},
   "outputs": [
    {
     "name": "stdout",
     "output_type": "stream",
     "text": [
      "10 24\n"
     ]
    }
   ],
   "source": [
    "def sum_product(input_tuple):\n",
    "    sum_result = 0\n",
    "    product_result = 1\n",
    "\n",
    "    for i in input_tuple:\n",
    "        sum_result += i\n",
    "        product_result *= i\n",
    "\n",
    "    return sum_result, product_result\n",
    "\n",
    "\n",
    "input_tuple = (1, 2, 3, 4)\n",
    "sum_result, product_result = sum_product(input_tuple)\n",
    "print(sum_result, product_result)"
   ]
  },
  {
   "cell_type": "markdown",
   "metadata": {},
   "source": [
    "## 2. Elementwise Sum"
   ]
  },
  {
   "cell_type": "markdown",
   "metadata": {},
   "source": [
    "Create a function that takes two tuples and returns a tuple containing the element-wise sum of the input tuples.\n",
    "\n",
    "Example\n",
    "```\n",
    "tuple1 = (1, 2, 3)\n",
    "tuple2 = (4, 5, 6)\n",
    "output_tuple = tuple_elementwise_sum(tuple1, tuple2)\n",
    "print(output_tuple)  \n",
    "\n",
    "Expected output: (5, 7, 9)\n",
    "```"
   ]
  },
  {
   "cell_type": "code",
   "execution_count": 17,
   "metadata": {},
   "outputs": [
    {
     "name": "stdout",
     "output_type": "stream",
     "text": [
      "(5, 7, 9)\n"
     ]
    }
   ],
   "source": [
    "def tuple_elementwise_sum(tuple1, tuple2):\n",
    "    return tuple(map(sum, zip(tuple1, tuple2)))\n",
    "\n",
    "\n",
    "tuple1 = (1, 2, 3)\n",
    "tuple2 = (4, 5, 6)\n",
    "output_tuple = tuple_elementwise_sum(tuple1, tuple2)\n",
    "print(output_tuple)"
   ]
  },
  {
   "cell_type": "code",
   "execution_count": 18,
   "metadata": {},
   "outputs": [
    {
     "name": "stdout",
     "output_type": "stream",
     "text": [
      "(5, 7, 9)\n"
     ]
    }
   ],
   "source": [
    "def tuple_elementwise_sum(tuple1, tuple2):\n",
    "    if len(tuple1) != len(tuple2):\n",
    "        raise ValueError('Input tuples must have the same length.')\n",
    "\n",
    "    result = tuple(a + b for a, b in zip(tuple1, tuple2))\n",
    "\n",
    "    return result\n",
    "\n",
    "\n",
    "tuple1 = (1, 2, 3)\n",
    "tuple2 = (4, 5, 6)\n",
    "output_tuple = tuple_elementwise_sum(tuple1, tuple2)\n",
    "print(output_tuple)"
   ]
  },
  {
   "cell_type": "markdown",
   "metadata": {},
   "source": [
    "## 3. Insert at the Beginning"
   ]
  },
  {
   "cell_type": "markdown",
   "metadata": {},
   "source": [
    "Write a function that takes a tuple and a value, and returns a new tuple with the value inserted at the beginning of the original tuple.\n",
    "\n",
    "Example\n",
    "```\n",
    "input_tuple = (2, 3, 4)\n",
    "value_to_insert = 1\n",
    "output_tuple = insert_value_front(input_tuple, value_to_insert)\n",
    "print(output_tuple)  \n",
    "\n",
    "Expected output: (1, 2, 3, 4)\n",
    "```"
   ]
  },
  {
   "cell_type": "code",
   "execution_count": 25,
   "metadata": {},
   "outputs": [
    {
     "name": "stdout",
     "output_type": "stream",
     "text": [
      "(1, 2, 3, 4)\n"
     ]
    }
   ],
   "source": [
    "def insert_value_front(input_tuple, value_to_insert):\n",
    "    convert_to_list = list(input_tuple)\n",
    "    convert_to_list.insert(0, value_to_insert)\n",
    "\n",
    "    return tuple(convert_to_list)\n",
    "\n",
    "\n",
    "input_tuple = (2, 3, 4)\n",
    "value_to_insert = 1\n",
    "output_tuple = insert_value_front(input_tuple, value_to_insert)\n",
    "print(output_tuple)"
   ]
  },
  {
   "cell_type": "code",
   "execution_count": 1,
   "metadata": {},
   "outputs": [
    {
     "name": "stdout",
     "output_type": "stream",
     "text": [
      "(1, 2, 3, 4)\n"
     ]
    }
   ],
   "source": [
    "def insert_value_front(input_tuple, value_to_insert):\n",
    "    return (value_to_insert, ) + input_tuple\n",
    "\n",
    "\n",
    "input_tuple = (2, 3, 4)\n",
    "value_to_insert = 1\n",
    "output_tuple = insert_value_front(input_tuple, value_to_insert)\n",
    "print(output_tuple)"
   ]
  },
  {
   "cell_type": "markdown",
   "metadata": {},
   "source": [
    "## 4. Concatenate"
   ]
  },
  {
   "cell_type": "markdown",
   "metadata": {},
   "source": [
    "Write a function that takes a tuple of strings and concatenates them, separating each string with a space.\n",
    "\n",
    "Example\n",
    "```\n",
    "input_tuple = ('Hello', 'World', 'from', 'Python')\n",
    "output_string = concatenate_strings(input_tuple)\n",
    "print(output_string)\n",
    "\n",
    "Expected output: 'Hello World from Python'\n",
    "```"
   ]
  },
  {
   "cell_type": "code",
   "execution_count": 2,
   "metadata": {},
   "outputs": [
    {
     "name": "stdout",
     "output_type": "stream",
     "text": [
      "Hello World from Python\n"
     ]
    }
   ],
   "source": [
    "def concatenate_strings(input_tuple):\n",
    "    return ' '.join(input_tuple)\n",
    "\n",
    "\n",
    "input_tuple = ('Hello', 'World', 'from', 'Python')\n",
    "output_string = concatenate_strings(input_tuple)\n",
    "print(output_string)"
   ]
  },
  {
   "cell_type": "markdown",
   "metadata": {},
   "source": [
    "## 5. Diagonal"
   ]
  },
  {
   "cell_type": "markdown",
   "metadata": {},
   "source": [
    "Create a function that takes a tuple of tuples and returns a tuple containing the diagonal elements of the input.\n",
    "\n",
    "Example\n",
    "```\n",
    "input_tuple = (\n",
    "    (1, 2, 3),\n",
    "    (4, 5, 6),\n",
    "    (7, 8, 9)\n",
    ")\n",
    "output_tuple = get_diagonal(input_tuple)\n",
    "print(output_tuple) \n",
    "\n",
    "Expected output: (1, 5, 9)\n",
    "```"
   ]
  },
  {
   "cell_type": "code",
   "execution_count": 6,
   "metadata": {},
   "outputs": [
    {
     "name": "stdout",
     "output_type": "stream",
     "text": [
      "(1, 5, 9)\n"
     ]
    }
   ],
   "source": [
    "def get_diagonal(tup):\n",
    "    # result = list()\n",
    "    \n",
    "    # for i in range(len(tup)):\n",
    "    #     result.append(tup[i][i])\n",
    "        \n",
    "    # return result\n",
    "\n",
    "    return tuple(tup[i][i] for i in range(len(tup)))\n",
    "\n",
    "\n",
    "input_tuple = (\n",
    "    (1, 2, 3),\n",
    "    (4, 5, 6),\n",
    "    (7, 8, 9)\n",
    ")\n",
    "output_tuple = get_diagonal(input_tuple)\n",
    "print(output_tuple)"
   ]
  },
  {
   "cell_type": "markdown",
   "metadata": {},
   "source": [
    "## 6. Common Elements"
   ]
  },
  {
   "cell_type": "markdown",
   "metadata": {},
   "source": [
    "Write a function that takes two tuples and returns a tuple containing the common elements of the input tuples.\n",
    "\n",
    "Example\n",
    "```\n",
    "tuple1 = (1, 2, 3, 4, 5)\n",
    "tuple2 = (4, 5, 6, 7, 8)\n",
    "output_tuple = common_elements(tuple1, tuple2)\n",
    "print(output_tuple)  \n",
    "\n",
    "Expected output: (4, 5)\n",
    "```"
   ]
  },
  {
   "cell_type": "code",
   "execution_count": 20,
   "metadata": {},
   "outputs": [
    {
     "name": "stdout",
     "output_type": "stream",
     "text": [
      "(4, 5)\n"
     ]
    }
   ],
   "source": [
    "def common_elements(tuple1, tuple2):\n",
    "    return tuple(set(tuple1) & set(tuple2))\n",
    "            \n",
    "\n",
    "\n",
    "tuple1 = (1, 2, 3, 4, 5)\n",
    "tuple2 = (4, 5, 6, 7, 8)\n",
    "output_tuple = common_elements(tuple1, tuple2)\n",
    "print(output_tuple)"
   ]
  },
  {
   "cell_type": "code",
   "execution_count": null,
   "metadata": {},
   "outputs": [],
   "source": []
  }
 ],
 "metadata": {
  "kernelspec": {
   "display_name": "Python 3",
   "language": "python",
   "name": "python3"
  },
  "language_info": {
   "codemirror_mode": {
    "name": "ipython",
    "version": 3
   },
   "file_extension": ".py",
   "mimetype": "text/x-python",
   "name": "python",
   "nbconvert_exporter": "python",
   "pygments_lexer": "ipython3",
   "version": "3.12.1"
  }
 },
 "nbformat": 4,
 "nbformat_minor": 2
}
